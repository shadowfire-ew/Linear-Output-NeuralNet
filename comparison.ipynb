{
 "cells": [
  {
   "cell_type": "markdown",
   "metadata": {},
   "source": [
    "# Experimenting with CuPy vs Numpy"
   ]
  },
  {
   "cell_type": "code",
   "execution_count": 1,
   "metadata": {},
   "outputs": [],
   "source": [
    "import network_numpy as nn\n",
    "import network_cupy as nc\n",
    "import network_base as nb\n",
    "import image_datasets as id"
   ]
  },
  {
   "cell_type": "markdown",
   "metadata": {},
   "source": [
    "## Common information"
   ]
  },
  {
   "cell_type": "code",
   "execution_count": 5,
   "metadata": {},
   "outputs": [
    {
     "name": "stdout",
     "output_type": "stream",
     "text": [
      "72000 18000\n"
     ]
    }
   ],
   "source": [
    "# the dataset\n",
    "# loading the image\n",
    "dataset,shape = id.ReadImage(\"./DataSet.png\",True)\n",
    "# making an 80/20 split\n",
    "test_size = len(dataset)//5\n",
    "train = dataset[test_size:]\n",
    "test = dataset[:test_size]\n",
    "print(len(train),len(test))"
   ]
  },
  {
   "cell_type": "code",
   "execution_count": null,
   "metadata": {},
   "outputs": [],
   "source": [
    "# training parameters\n",
    "epochs = 100\n",
    "alpha = 0.01\n",
    "# network params\n",
    "inps = len(train[0][0])\n",
    "outs = len(train[0][1])\n",
    "hiddens = [5]\n",
    "activations = [nb.SIGMOID,nb.LINEAR]"
   ]
  },
  {
   "cell_type": "code",
   "execution_count": null,
   "metadata": {},
   "outputs": [],
   "source": [
    "# Testing the numpy net\n",
    "npnet = nn.NeuralNet(inps,outs,hiddens,activations)\n",
    "nn.TrainNet(npnet,train,epochs,alpha)\n",
    "print(\"Cost:\",nn.TestNet(npnet,test))\n",
    "npnet_im = id.NetImage()\n",
    "display(npnet_im)"
   ]
  },
  {
   "cell_type": "code",
   "execution_count": null,
   "metadata": {},
   "outputs": [],
   "source": [
    "# Testing the CuPy net\n",
    "cunet = nc.NeuralNet(inps,outs,hiddens,activations)\n",
    "nn.TrainNet(npnet,train,epochs,alpha)\n",
    "print(\"Cost:\",nc.TestNet(cunet,test))\n",
    "cunet_im = id.NetImage()\n",
    "display(cunet_im)"
   ]
  }
 ],
 "metadata": {
  "interpreter": {
   "hash": "6f7bc6f80d1c774ca8a27f5b3871f335dd79f262c671849423d61a95eb87877c"
  },
  "kernelspec": {
   "display_name": "Python 3.10.2 64-bit",
   "language": "python",
   "name": "python3"
  },
  "language_info": {
   "codemirror_mode": {
    "name": "ipython",
    "version": 3
   },
   "file_extension": ".py",
   "mimetype": "text/x-python",
   "name": "python",
   "nbconvert_exporter": "python",
   "pygments_lexer": "ipython3",
   "version": "3.10.2"
  },
  "orig_nbformat": 4
 },
 "nbformat": 4,
 "nbformat_minor": 2
}
