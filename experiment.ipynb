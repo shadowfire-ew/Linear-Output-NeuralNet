{
 "cells": [
  {
   "cell_type": "markdown",
   "id": "312b0fa5-081e-4d32-b018-5f4ca706dd54",
   "metadata": {},
   "source": [
    "# The Experiment"
   ]
  },
  {
   "cell_type": "code",
   "execution_count": null,
   "id": "b86e70df-21e7-4296-9b39-aeb3710e71a7",
   "metadata": {},
   "outputs": [],
   "source": []
  }
 ],
 "metadata": {
  "kernelspec": {
   "display_name": "Python 3 (ipykernel)",
   "language": "python",
   "name": "python3"
  },
  "language_info": {
   "codemirror_mode": {
    "name": "ipython",
    "version": 3
   },
   "file_extension": ".py",
   "mimetype": "text/x-python",
   "name": "python",
   "nbconvert_exporter": "python",
   "pygments_lexer": "ipython3",
   "version": "3.10.2"
  }
 },
 "nbformat": 4,
 "nbformat_minor": 5
}
