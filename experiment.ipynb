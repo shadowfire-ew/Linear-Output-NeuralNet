{
 "cells": [
  {
   "cell_type": "markdown",
   "id": "312b0fa5-081e-4d32-b018-5f4ca706dd54",
   "metadata": {},
   "source": [
    "# The Experiment"
   ]
  },
  {
   "cell_type": "markdown",
   "id": "02f29553-cca1-4f80-bf88-90516fefaa03",
   "metadata": {},
   "source": [
    "Train a hanful of neural networks to spit out color chanels based on coordinates"
   ]
  },
  {
   "cell_type": "code",
   "execution_count": 1,
   "id": "c5feb027-d836-4587-9548-80324eaf1a85",
   "metadata": {},
   "outputs": [
    {
     "name": "stdout",
     "output_type": "stream",
     "text": [
      "netwprk.py\n",
      "the main module that handles the neural networks\n",
      "utilizes numpy for now\n",
      "\n"
     ]
    }
   ],
   "source": [
    "# libraries used\n",
    "import numpy as np\n",
    "from PIL import Image\n",
    "import network as nn\n",
    "from random import shuffle\n",
    "print(nn.__doc__)"
   ]
  },
  {
   "cell_type": "markdown",
   "id": "4686bf45-a99f-40cd-acba-3b981d77d196",
   "metadata": {},
   "source": [
    "## The Data"
   ]
  },
  {
   "cell_type": "markdown",
   "id": "90df9214-2dca-489a-a470-ca79eede2296",
   "metadata": {},
   "source": [
    "![DataSet](DataSet.png)"
   ]
  },
  {
   "cell_type": "code",
   "execution_count": 2,
   "id": "27cbcacf-4748-4db2-838e-8e0b17330d19",
   "metadata": {},
   "outputs": [
    {
     "name": "stdout",
     "output_type": "stream",
     "text": [
      "(225, 400, 3)\n",
      "90000\n",
      "90000\n",
      "((0.057777777777777775, 0.7125), (34, 177, 76))\n",
      "72000 18000\n"
     ]
    }
   ],
   "source": [
    "#importing the image into a dataset\n",
    "imobj = Image.open(\".\\\\Dataset.png\")\n",
    "imarr = np.asarray(imobj)\n",
    "print(imarr.shape)\n",
    "dataset = []\n",
    "for x in range(imarr.shape[0]):\n",
    "    for y in range(imarr.shape[1]):\n",
    "        xnorm = x/imarr.shape[0]\n",
    "        ynorm = y/imarr.shape[1]\n",
    "        coords = (xnorm,ynorm)\n",
    "        color = []\n",
    "        for chan in range(imarr.shape[2]):\n",
    "            color.append(imarr[x][y][chan])\n",
    "        color=tuple(color)\n",
    "        pair = (coords,color)\n",
    "        dataset.append(pair)\n",
    "print(len(dataset))\n",
    "print(imarr.shape[0]*imarr.shape[1])\n",
    "shuffle(dataset)\n",
    "# use about 20% of dataset for testing, 80% for training\n",
    "test_size = len(dataset)//5\n",
    "print(dataset[0])\n",
    "train = dataset[:-test_size]\n",
    "test = dataset[-test_size:]\n",
    "print(len(train),len(test))"
   ]
  },
  {
   "cell_type": "code",
   "execution_count": 3,
   "id": "b82b3a36",
   "metadata": {},
   "outputs": [],
   "source": [
    "# a function to reconstruct the image via the net\n",
    "def NetImage(net):\n",
    "    if type(net) is not nn.NeuralNet:\n",
    "        raise TypeError(\"Unexpected type\")\n",
    "    newimarr = np.zeros(imarr.shape,dtype=np.uint8)\n",
    "    for x in range(imarr.shape[0]):\n",
    "        for y in range(imarr.shape[1]):\n",
    "            xnorm = x/imarr.shape[0]\n",
    "            ynorm = y/imarr.shape[1]\n",
    "            coords = (xnorm,ynorm)\n",
    "            color = net.Classify(coords)\n",
    "            for chan in range(imarr.shape[2]):\n",
    "                chancol = 0\n",
    "                try:\n",
    "                    chancol = round(color[chan])\n",
    "                except:\n",
    "                    chancol = 0\n",
    "                if chancol < 0:\n",
    "                    chancol = 0\n",
    "                elif chancol > 255:\n",
    "                    chancol = 255\n",
    "                newimarr[x][y][chan] = chancol\n",
    "    return Image.fromarray(newimarr)"
   ]
  },
  {
   "cell_type": "code",
   "execution_count": 4,
   "id": "d37a6095",
   "metadata": {},
   "outputs": [
    {
     "data": {
      "image/png": "[encoded data removed]",
      "text/plain": [
       "<PIL.Image.Image image mode=RGB size=400x225 at 0x19811C2FC40>"
      ]
     },
     "metadata": {},
     "output_type": "display_data"
    }
   ],
   "source": [
    "# testing the new thing\n",
    "fakenet = nn.NeuralNet(2,3)\n",
    "fakeim = NetImage(fakenet)\n",
    "display(fakeim)"
   ]
  },
  {
   "cell_type": "markdown",
   "id": "044470f1",
   "metadata": {},
   "source": [
    "## The Networks"
   ]
  },
  {
   "cell_type": "code",
   "execution_count": 5,
   "id": "f95ad5e3",
   "metadata": {},
   "outputs": [],
   "source": [
    "# some global facts for net building and training\n",
    "inps = 2\n",
    "outs = 3\n",
    "epochs = 10\n",
    "alpha = 0.1"
   ]
  },
  {
   "cell_type": "markdown",
   "id": "3f885fb6",
   "metadata": {},
   "source": [
    "Reference\n",
    "\n",
    "![ref](netdrawings\\networks-Ref.png)"
   ]
  },
  {
   "cell_type": "markdown",
   "id": "36d7715c",
   "metadata": {},
   "source": [
    "### Net 1"
   ]
  },
  {
   "cell_type": "markdown",
   "id": "1027c672",
   "metadata": {},
   "source": [
    "Just a collection of linear regressors\n",
    "\n",
    "![net1](netdrawings\\networks-net1.png)"
   ]
  },
  {
   "cell_type": "code",
   "execution_count": 6,
   "id": "b2899368",
   "metadata": {},
   "outputs": [
    {
     "name": "stdout",
     "output_type": "stream",
     "text": [
      "Begining training\n",
      "Done in 0.0 minutes and 6.70 seconds\n",
      "Begining training\n",
      "Done in 0.0 minutes and 6.76 seconds\n"
     ]
    }
   ],
   "source": [
    "# implementation and training\n",
    "net1 = nn.NeuralNet(inps,outs)\n",
    "nn.TrainNet(net1,train,epochs//2,alpha)\n",
    "nn.TrainNet(net1,train,epochs//2,alpha)"
   ]
  },
  {
   "cell_type": "code",
   "execution_count": 7,
   "id": "fec38cd2",
   "metadata": {},
   "outputs": [
    {
     "name": "stdout",
     "output_type": "stream",
     "text": [
      "5659.455724936449\n"
     ]
    }
   ],
   "source": [
    "net1_cost = nn.TestNet(net1,test)\n",
    "print(net1_cost)"
   ]
  },
  {
   "cell_type": "code",
   "execution_count": 8,
   "id": "02688cd8",
   "metadata": {},
   "outputs": [
    {
     "data": {
      "image/png": "[encoded data removed]",
      "text/plain": [
       "<PIL.Image.Image image mode=RGB size=400x225 at 0x19811C2F310>"
      ]
     },
     "metadata": {},
     "output_type": "display_data"
    }
   ],
   "source": [
    "net1_im = NetImage(net1)\n",
    "display(net1_im)\n",
    "net1_im.save(\".\\\\results\\\\net1.png\")"
   ]
  },
  {
   "cell_type": "code",
   "execution_count": 9,
   "id": "d96bb07d",
   "metadata": {},
   "outputs": [
    {
     "name": "stdout",
     "output_type": "stream",
     "text": [
      "[[ 262.454557    156.49090159  -35.55733141]\n",
      " [-105.48602624   12.45798777   85.6716161 ]\n",
      " [-246.31701126   -8.71623806  203.84247827]]\n"
     ]
    }
   ],
   "source": [
    "for theta in net1._thetas:\n",
    "    print(theta)"
   ]
  },
  {
   "cell_type": "markdown",
   "id": "36d7715c",
   "metadata": {},
   "source": [
    "### Net 2"
   ]
  },
  {
   "cell_type": "markdown",
   "id": "1027c672",
   "metadata": {},
   "source": [
    "Just a collection of linear regressors feeding into more linear regressors\n",
    "\n",
    "![net1](netdrawings\\networks-net2.png)"
   ]
  },
  {
   "cell_type": "code",
   "execution_count": 10,
   "id": "b2899368",
   "metadata": {},
   "outputs": [
    {
     "name": "stdout",
     "output_type": "stream",
     "text": [
      "Begining training\n"
     ]
    },
    {
     "name": "stderr",
     "output_type": "stream",
     "text": [
      "e:\\Git Clones\\Linear-Output-NeuralNet\\network.py:93: RuntimeWarning: overflow encountered in matmul\n",
      "  n_array = np.matmul(p_layer,self._thetas[layer])\n",
      "e:\\Git Clones\\Linear-Output-NeuralNet\\network.py:93: RuntimeWarning: invalid value encountered in matmul\n",
      "  n_array = np.matmul(p_layer,self._thetas[layer])\n"
     ]
    },
    {
     "ename": "KeyboardInterrupt",
     "evalue": "",
     "output_type": "error",
     "traceback": [
      "\u001b[1;31m---------------------------------------------------------------------------\u001b[0m",
      "\u001b[1;31mKeyboardInterrupt\u001b[0m                         Traceback (most recent call last)",
      "\u001b[1;32me:\\Git Clones\\Linear-Output-NeuralNet\\experiment.ipynb Cell 20'\u001b[0m in \u001b[0;36m<module>\u001b[1;34m\u001b[0m\n\u001b[0;32m      <a href='vscode-notebook-cell:/e%3A/Git%20Clones/Linear-Output-NeuralNet/experiment.ipynb#ch0000027?line=0'>1</a>\u001b[0m \u001b[39m# implementation and training\u001b[39;00m\n\u001b[0;32m      <a href='vscode-notebook-cell:/e%3A/Git%20Clones/Linear-Output-NeuralNet/experiment.ipynb#ch0000027?line=1'>2</a>\u001b[0m net2 \u001b[39m=\u001b[39m nn\u001b[39m.\u001b[39mNeuralNet(inps,outs,[\u001b[39m5\u001b[39m],[nn\u001b[39m.\u001b[39mLINEAR,nn\u001b[39m.\u001b[39mLINEAR])\n\u001b[1;32m----> <a href='vscode-notebook-cell:/e%3A/Git%20Clones/Linear-Output-NeuralNet/experiment.ipynb#ch0000027?line=2'>3</a>\u001b[0m nn\u001b[39m.\u001b[39;49mTrainNet(net2,train,epochs,alpha)\n",
      "File \u001b[1;32me:\\Git Clones\\Linear-Output-NeuralNet\\network.py:219\u001b[0m, in \u001b[0;36mTrainNet\u001b[1;34m(net, data, epochs, alpha)\u001b[0m\n\u001b[0;32m    <a href='file:///e%3A/Git%20Clones/Linear-Output-NeuralNet/network.py?line=216'>217</a>\u001b[0m         y \u001b[39m=\u001b[39m e[\u001b[39m1\u001b[39m]\n\u001b[0;32m    <a href='file:///e%3A/Git%20Clones/Linear-Output-NeuralNet/network.py?line=217'>218</a>\u001b[0m         acts \u001b[39m=\u001b[39m net\u001b[39m.\u001b[39mForwardProp(x)\n\u001b[1;32m--> <a href='file:///e%3A/Git%20Clones/Linear-Output-NeuralNet/network.py?line=218'>219</a>\u001b[0m         dthetas \u001b[39m=\u001b[39m net\u001b[39m.\u001b[39;49mBackProp(acts,y)\n\u001b[0;32m    <a href='file:///e%3A/Git%20Clones/Linear-Output-NeuralNet/network.py?line=219'>220</a>\u001b[0m         net\u001b[39m.\u001b[39mApplyDeltaTheta(dthetas,alpha)\n\u001b[0;32m    <a href='file:///e%3A/Git%20Clones/Linear-Output-NeuralNet/network.py?line=220'>221</a>\u001b[0m \u001b[39m# after all epochs\u001b[39;00m\n",
      "File \u001b[1;32me:\\Git Clones\\Linear-Output-NeuralNet\\network.py:153\u001b[0m, in \u001b[0;36mNeuralNet.BackProp\u001b[1;34m(self, acts, label)\u001b[0m\n\u001b[0;32m    <a href='file:///e%3A/Git%20Clones/Linear-Output-NeuralNet/network.py?line=149'>150</a>\u001b[0m deltas[layer] \u001b[39m=\u001b[39m cost_derive\n\u001b[0;32m    <a href='file:///e%3A/Git%20Clones/Linear-Output-NeuralNet/network.py?line=150'>151</a>\u001b[0m \u001b[39m# create the delta_theta part\u001b[39;00m\n\u001b[0;32m    <a href='file:///e%3A/Git%20Clones/Linear-Output-NeuralNet/network.py?line=151'>152</a>\u001b[0m \u001b[39m# get previous activation & bias\u001b[39;00m\n\u001b[1;32m--> <a href='file:///e%3A/Git%20Clones/Linear-Output-NeuralNet/network.py?line=152'>153</a>\u001b[0m preact \u001b[39m=\u001b[39m np\u001b[39m.\u001b[39;49mconcatenate(([\u001b[39m1\u001b[39;49m],acts[layer\u001b[39m-\u001b[39;49m\u001b[39m1\u001b[39;49m]))\n\u001b[0;32m    <a href='file:///e%3A/Git%20Clones/Linear-Output-NeuralNet/network.py?line=153'>154</a>\u001b[0m \u001b[39m# transpose activation to vert\u001b[39;00m\n\u001b[0;32m    <a href='file:///e%3A/Git%20Clones/Linear-Output-NeuralNet/network.py?line=154'>155</a>\u001b[0m actT \u001b[39m=\u001b[39m preact\u001b[39m.\u001b[39mreshape((\u001b[39mlen\u001b[39m(preact),\u001b[39m1\u001b[39m))\n",
      "File \u001b[1;32m<__array_function__ internals>:180\u001b[0m, in \u001b[0;36mconcatenate\u001b[1;34m(*args, **kwargs)\u001b[0m\n",
      "\u001b[1;31mKeyboardInterrupt\u001b[0m: "
     ]
    }
   ],
   "source": [
    "# implementation and training\n",
    "net2 = nn.NeuralNet(inps,outs,[5],[nn.LINEAR,nn.LINEAR])\n",
    "nn.TrainNet(net2,train,epochs,alpha)"
   ]
  },
  {
   "cell_type": "code",
   "execution_count": null,
   "id": "fec38cd2",
   "metadata": {},
   "outputs": [
    {
     "name": "stdout",
     "output_type": "stream",
     "text": [
      "nan\n"
     ]
    }
   ],
   "source": [
    "net2_cost = nn.TestNet(net2,test)\n",
    "print(net2_cost)"
   ]
  },
  {
   "cell_type": "code",
   "execution_count": null,
   "id": "02688cd8",
   "metadata": {},
   "outputs": [
    {
     "data": {
      "image/png": "[encoded data removed]",
      "text/plain": [
       "<PIL.Image.Image image mode=RGB size=400x225 at 0x25881FBB490>"
      ]
     },
     "metadata": {},
     "output_type": "display_data"
    }
   ],
   "source": [
    "net2_im = NetImage(net2)\n",
    "display(net2_im)\n",
    "net2_im.save(\".\\\\results\\\\net2.png\")"
   ]
  },
  {
   "cell_type": "markdown",
   "id": "36d7715c",
   "metadata": {},
   "source": [
    "### Net 3"
   ]
  },
  {
   "cell_type": "markdown",
   "id": "1027c672",
   "metadata": {},
   "source": [
    "A collection of linear regressors fed by logistic nodes\n",
    "\n",
    "![net1](netdrawings\\networks-net3.png)"
   ]
  },
  {
   "cell_type": "code",
   "execution_count": null,
   "id": "b2899368",
   "metadata": {},
   "outputs": [
    {
     "name": "stdout",
     "output_type": "stream",
     "text": [
      "Begining training\n",
      "Done in 0.0 minutes and 32.98 seconds\n"
     ]
    }
   ],
   "source": [
    "# implementation and training\n",
    "net3 = nn.NeuralNet(inps,outs,[5],[nn.SIGMOID,nn.LINEAR])\n",
    "nn.TrainNet(net3,train,epochs,alpha)"
   ]
  },
  {
   "cell_type": "code",
   "execution_count": null,
   "id": "fec38cd2",
   "metadata": {},
   "outputs": [
    {
     "name": "stdout",
     "output_type": "stream",
     "text": [
      "8346.39069523772\n"
     ]
    }
   ],
   "source": [
    "net3_cost = nn.TestNet(net3,test)\n",
    "print(net3_cost)"
   ]
  },
  {
   "cell_type": "code",
   "execution_count": null,
   "id": "02688cd8",
   "metadata": {},
   "outputs": [
    {
     "data": {
      "image/png": "[encoded data removed]",
      "text/plain": [
       "<PIL.Image.Image image mode=RGB size=400x225 at 0x2588158FFD0>"
      ]
     },
     "metadata": {},
     "output_type": "display_data"
    }
   ],
   "source": [
    "net3_im = NetImage(net3)\n",
    "display(net3_im)\n",
    "net3_im.save(\".\\\\results\\\\net3.png\")"
   ]
  }
 ],
 "metadata": {
  "kernelspec": {
   "display_name": "Python 3 (ipykernel)",
   "language": "python",
   "name": "python3"
  },
  "language_info": {
   "codemirror_mode": {
    "name": "ipython",
    "version": 3
   },
   "file_extension": ".py",
   "mimetype": "text/x-python",
   "name": "python",
   "nbconvert_exporter": "python",
   "pygments_lexer": "ipython3",
   "version": "3.10.2"
  }
 },
 "nbformat": 4,
 "nbformat_minor": 5
}
