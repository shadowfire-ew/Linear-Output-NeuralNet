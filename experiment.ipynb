{
 "cells": [
  {
   "cell_type": "markdown",
   "id": "312b0fa5-081e-4d32-b018-5f4ca706dd54",
   "metadata": {},
   "source": [
    "# The Experiment"
   ]
  },
  {
   "cell_type": "markdown",
   "id": "02f29553-cca1-4f80-bf88-90516fefaa03",
   "metadata": {},
   "source": [
    "Train a hanful of neural networks to spit out color chanels based on coordinates"
   ]
  },
  {
   "cell_type": "code",
   "execution_count": 1,
   "id": "c5feb027-d836-4587-9548-80324eaf1a85",
   "metadata": {},
   "outputs": [
    {
     "name": "stdout",
     "output_type": "stream",
     "text": [
      "netwprk.py\n",
      "the main module that handles the neural networks\n",
      "utilizes numpy for now\n",
      "\n"
     ]
    }
   ],
   "source": [
    "# libraries used\n",
    "import numpy as np\n",
    "from PIL import Image\n",
    "import network as nn\n",
    "from random import shuffle\n",
    "print(nn.__doc__)"
   ]
  },
  {
   "cell_type": "markdown",
   "id": "4686bf45-a99f-40cd-acba-3b981d77d196",
   "metadata": {},
   "source": [
    "## The Data"
   ]
  },
  {
   "cell_type": "markdown",
   "id": "90df9214-2dca-489a-a470-ca79eede2296",
   "metadata": {},
   "source": [
    "![DataSet](DataSet.png)"
   ]
  },
  {
   "cell_type": "code",
   "execution_count": 2,
   "id": "27cbcacf-4748-4db2-838e-8e0b17330d19",
   "metadata": {},
   "outputs": [
    {
     "name": "stdout",
     "output_type": "stream",
     "text": [
      "(225, 400, 3)\n",
      "90000\n",
      "90000\n",
      "((0.38222222222222224, 0.805), (0.0, 0.6352941176470588, 0.9098039215686274))\n",
      "72000 18000\n"
     ]
    }
   ],
   "source": [
    "#importing the image into a dataset\n",
    "imobj = Image.open(\".\\\\Dataset.png\")\n",
    "imarr = np.asarray(imobj)\n",
    "print(imarr.shape)\n",
    "dataset = []\n",
    "for x in range(imarr.shape[0]):\n",
    "    for y in range(imarr.shape[1]):\n",
    "        xnorm = x/imarr.shape[0]\n",
    "        ynorm = y/imarr.shape[1]\n",
    "        coords = (xnorm,ynorm)\n",
    "        color = []\n",
    "        for chan in range(imarr.shape[2]):\n",
    "            color.append(imarr[x][y][chan]/255)\n",
    "        color=tuple(color)\n",
    "        pair = (coords,color)\n",
    "        dataset.append(pair)\n",
    "print(len(dataset))\n",
    "print(imarr.shape[0]*imarr.shape[1])\n",
    "shuffle(dataset)\n",
    "# use about 20% of dataset for testing, 80% for training\n",
    "test_size = len(dataset)//5\n",
    "print(dataset[0])\n",
    "train = dataset[:-test_size]\n",
    "test = dataset[-test_size:]\n",
    "print(len(train),len(test))"
   ]
  },
  {
   "cell_type": "code",
   "execution_count": 3,
   "id": "b82b3a36",
   "metadata": {},
   "outputs": [],
   "source": [
    "# a function to reconstruct the image via the net\n",
    "def NetImage(net):\n",
    "    if type(net) is not nn.NeuralNet:\n",
    "        raise TypeError(\"Unexpected type\")\n",
    "    newimarr = np.zeros(imarr.shape,dtype=np.uint8)\n",
    "    for x in range(imarr.shape[0]):\n",
    "        for y in range(imarr.shape[1]):\n",
    "            xnorm = x/imarr.shape[0]\n",
    "            ynorm = y/imarr.shape[1]\n",
    "            coords = (xnorm,ynorm)\n",
    "            color = net.Classify(coords)\n",
    "            for chan in range(imarr.shape[2]):\n",
    "                chancol = 0\n",
    "                try:\n",
    "                    chancol = round(color[chan]*255)\n",
    "                except:\n",
    "                    chancol = 0\n",
    "                if chancol < 0:\n",
    "                    chancol = 0\n",
    "                elif chancol > 255:\n",
    "                    chancol = 255\n",
    "                newimarr[x][y][chan] = chancol\n",
    "    return Image.fromarray(newimarr)"
   ]
  },
  {
   "cell_type": "code",
   "execution_count": 4,
   "id": "d37a6095",
   "metadata": {},
   "outputs": [
    {
     "data": {
      "image/png": "[encoded data removed]",
      "text/plain": [
       "<PIL.Image.Image image mode=RGB size=400x225 at 0x2C1B5597CA0>"
      ]
     },
     "metadata": {},
     "output_type": "display_data"
    }
   ],
   "source": [
    "# testing the new thing\n",
    "fakenet = nn.NeuralNet(2,3)\n",
    "fakeim = NetImage(fakenet)\n",
    "display(fakeim)"
   ]
  },
  {
   "cell_type": "markdown",
   "id": "044470f1",
   "metadata": {},
   "source": [
    "## The Networks"
   ]
  },
  {
   "cell_type": "code",
   "execution_count": 5,
   "id": "f95ad5e3",
   "metadata": {},
   "outputs": [],
   "source": [
    "# some global facts for net building and training\n",
    "inps = 2\n",
    "outs = 3\n",
    "epochs = 1000\n",
    "alpha = 0.1"
   ]
  },
  {
   "cell_type": "markdown",
   "id": "3f885fb6",
   "metadata": {},
   "source": [
    "Reference\n",
    "\n",
    "![ref](netdrawings\\networks-Ref.png)"
   ]
  },
  {
   "cell_type": "markdown",
   "id": "36d7715c",
   "metadata": {},
   "source": [
    "### Net 1"
   ]
  },
  {
   "cell_type": "markdown",
   "id": "1027c672",
   "metadata": {},
   "source": [
    "Just a collection of linear regressors\n",
    "\n",
    "![net1](netdrawings\\networks-net1.png)"
   ]
  },
  {
   "cell_type": "code",
   "execution_count": 6,
   "id": "b2899368",
   "metadata": {},
   "outputs": [
    {
     "name": "stdout",
     "output_type": "stream",
     "text": [
      "Begining training\n",
      "Starting epoch 100...\n",
      "Starting epoch 200...\n",
      "Starting epoch 300...\n",
      "Starting epoch 400...\n",
      "Starting epoch 500...\n",
      "Starting epoch 600...\n",
      "Starting epoch 700...\n",
      "Starting epoch 800...\n",
      "Starting epoch 900...\n",
      "Done in 20.0 minutes and 53.32 seconds\n"
     ]
    }
   ],
   "source": [
    "# implementation and training\n",
    "net1 = nn.NeuralNet(inps,outs)\n",
    "nn.TrainNet(net1,train,epochs,alpha)"
   ]
  },
  {
   "cell_type": "code",
   "execution_count": 7,
   "id": "fec38cd2",
   "metadata": {},
   "outputs": [
    {
     "name": "stdout",
     "output_type": "stream",
     "text": [
      "0.07201252708543326\n"
     ]
    }
   ],
   "source": [
    "net1_cost = nn.TestNet(net1,test)\n",
    "print(net1_cost)"
   ]
  },
  {
   "cell_type": "code",
   "execution_count": 8,
   "id": "02688cd8",
   "metadata": {},
   "outputs": [
    {
     "data": {
      "image/png": "[encoded data removed]",
      "text/plain": [
       "<PIL.Image.Image image mode=RGB size=400x225 at 0x2C1B5597010>"
      ]
     },
     "metadata": {},
     "output_type": "display_data"
    }
   ],
   "source": [
    "net1_im = NetImage(net1)\n",
    "display(net1_im)\n",
    "net1_im.save(\".\\\\results\\\\net1_{}epochs.png\".format(epochs))"
   ]
  },
  {
   "cell_type": "code",
   "execution_count": 9,
   "id": "d96bb07d",
   "metadata": {},
   "outputs": [
    {
     "name": "stdout",
     "output_type": "stream",
     "text": [
      "[[ 1.11387954  0.61730675 -0.1673424 ]\n",
      " [-0.23739122  0.02939854  0.31471093]\n",
      " [-1.06268629 -0.04585536  0.85284091]]\n"
     ]
    }
   ],
   "source": [
    "for theta in net1._thetas:\n",
    "    print(theta)"
   ]
  },
  {
   "cell_type": "markdown",
   "id": "36d7715c",
   "metadata": {},
   "source": [
    "### Net 2"
   ]
  },
  {
   "cell_type": "markdown",
   "id": "1027c672",
   "metadata": {},
   "source": [
    "Just a collection of linear regressors feeding into more linear regressors\n",
    "\n",
    "![net1](netdrawings\\networks-net2.png)"
   ]
  },
  {
   "cell_type": "code",
   "execution_count": 10,
   "id": "b2899368",
   "metadata": {},
   "outputs": [
    {
     "name": "stdout",
     "output_type": "stream",
     "text": [
      "Begining training\n",
      "Starting epoch 100...\n",
      "Starting epoch 200...\n",
      "Starting epoch 300...\n",
      "Starting epoch 400...\n",
      "Starting epoch 500...\n",
      "Starting epoch 600...\n",
      "Starting epoch 700...\n",
      "Starting epoch 800...\n",
      "Starting epoch 900...\n",
      "Done in 41.0 minutes and 35.64 seconds\n"
     ]
    }
   ],
   "source": [
    "# implementation and training\n",
    "net2 = nn.NeuralNet(inps,outs,[5],[nn.LINEAR,nn.LINEAR])\n",
    "nn.TrainNet(net2,train,epochs,alpha)"
   ]
  },
  {
   "cell_type": "code",
   "execution_count": 11,
   "id": "fec38cd2",
   "metadata": {},
   "outputs": [
    {
     "name": "stdout",
     "output_type": "stream",
     "text": [
      "0.07177490890780557\n"
     ]
    }
   ],
   "source": [
    "net2_cost = nn.TestNet(net2,test)\n",
    "print(net2_cost)"
   ]
  },
  {
   "cell_type": "code",
   "execution_count": 12,
   "id": "02688cd8",
   "metadata": {},
   "outputs": [
    {
     "data": {
      "image/png": "[encoded data removed]",
      "text/plain": [
       "<PIL.Image.Image image mode=RGB size=400x225 at 0x2C1B5597430>"
      ]
     },
     "metadata": {},
     "output_type": "display_data"
    }
   ],
   "source": [
    "net2_im = NetImage(net2)\n",
    "display(net2_im)\n",
    "net2_im.save(\".\\\\results\\\\net2_{}epochs.png\".format(epochs))"
   ]
  },
  {
   "cell_type": "markdown",
   "id": "36d7715c",
   "metadata": {},
   "source": [
    "### Net 3"
   ]
  },
  {
   "cell_type": "markdown",
   "id": "1027c672",
   "metadata": {},
   "source": [
    "A collection of linear regressors fed by logistic nodes\n",
    "\n",
    "![net1](netdrawings\\networks-net3.png)"
   ]
  },
  {
   "cell_type": "code",
   "execution_count": 13,
   "id": "b2899368",
   "metadata": {},
   "outputs": [
    {
     "name": "stdout",
     "output_type": "stream",
     "text": [
      "Begining training\n",
      "Starting epoch 100...\n",
      "Starting epoch 200...\n",
      "Starting epoch 300...\n",
      "Starting epoch 400...\n",
      "Starting epoch 500...\n",
      "Starting epoch 600...\n",
      "Starting epoch 700...\n",
      "Starting epoch 800...\n",
      "Starting epoch 900...\n",
      "Done in 47.0 minutes and 35.64 seconds\n"
     ]
    }
   ],
   "source": [
    "# implementation and training\n",
    "net3 = nn.NeuralNet(inps,outs,[5],[nn.SIGMOID,nn.LINEAR])\n",
    "nn.TrainNet(net3,train,epochs,alpha)"
   ]
  },
  {
   "cell_type": "code",
   "execution_count": 14,
   "id": "fec38cd2",
   "metadata": {},
   "outputs": [
    {
     "name": "stdout",
     "output_type": "stream",
     "text": [
      "0.004508183759550219\n"
     ]
    }
   ],
   "source": [
    "net3_cost = nn.TestNet(net3,test)\n",
    "print(net3_cost)"
   ]
  },
  {
   "cell_type": "code",
   "execution_count": 15,
   "id": "02688cd8",
   "metadata": {},
   "outputs": [
    {
     "data": {
      "image/png": "[encoded data removed]",
      "text/plain": [
       "<PIL.Image.Image image mode=RGB size=400x225 at 0x2C1B5596FE0>"
      ]
     },
     "metadata": {},
     "output_type": "display_data"
    }
   ],
   "source": [
    "net3_im = NetImage(net3)\n",
    "display(net3_im)\n",
    "net3_im.save(\".\\\\results\\\\net3_{}epochs.png\".format(epochs))"
   ]
  }
 ],
 "metadata": {
  "kernelspec": {
   "display_name": "Python 3 (ipykernel)",
   "language": "python",
   "name": "python3"
  },
  "language_info": {
   "codemirror_mode": {
    "name": "ipython",
    "version": 3
   },
   "file_extension": ".py",
   "mimetype": "text/x-python",
   "name": "python",
   "nbconvert_exporter": "python",
   "pygments_lexer": "ipython3",
   "version": "3.10.2"
  }
 },
 "nbformat": 4,
 "nbformat_minor": 5
}
